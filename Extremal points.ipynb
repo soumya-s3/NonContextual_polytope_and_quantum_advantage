{
 "cells": [
  {
   "cell_type": "markdown",
   "id": "7022bac9",
   "metadata": {},
   "source": [
    "# Scenario 3 "
   ]
  },
  {
   "cell_type": "markdown",
   "id": "103183bb",
   "metadata": {},
   "source": [
    "Preparatioin equivalence : $\\frac{1}{2}(x_0 + x_1) = \\frac{1}{3}(x_2+x_3+x_4)$ <br> Measurement choice(y) : 2 <br> Possible outcomes(z) : 2"
   ]
  },
  {
   "cell_type": "code",
   "execution_count": 3,
   "id": "13854c3f",
   "metadata": {},
   "outputs": [],
   "source": [
    "import numpy as np"
   ]
  },
  {
   "cell_type": "code",
   "execution_count": 4,
   "id": "b3d404e4",
   "metadata": {},
   "outputs": [],
   "source": [
    "preps = 5  # No. of preparations\n",
    "y,z = 2,2  # y -> No. of possible measurement choices, z -> possible outcomes\n",
    "meas = y*z  # Total no. of measurement variables"
   ]
  },
  {
   "cell_type": "code",
   "execution_count": 5,
   "id": "fc5767da",
   "metadata": {},
   "outputs": [],
   "source": [
    "# First find the vertices of the individual polytopes using any convex polyhedra package.\n",
    "# Extremal points of preparation polytope\n",
    "# Each row of q_x is an extremal point with coordinates in order: q_0, q_1, q_2, q_3, q_4\n",
    "q_x = np.array([[0.0000,   2.0000,  -0.0000,        0,   3.0000],\n",
    "                [0.0000,   2.0000,  -0.0000,   3.0000,   0.0000],\n",
    "                [2.0000,  0.0000,        0,  -0.0000,   3.0000],\n",
    "                [2.0000,   0.0000,        0,   3.0000,        0],\n",
    "                [0.0000,   2.0000,   3.0000,  -0.0000,  -0.0000],\n",
    "                [2.0000,   0.0000,   3.0000,   0.0000,   0.0000]])                                                                \n",
    "# Extremal points of measurement polytope\n",
    "# Each row of M_zy is an extremal point with coordinates in order(p(z|y)) : p_d(0|0), p_d(0|1), p_d(1|0), p_d(1|1)     \n",
    "M_zy = np.array([[1,1,0,0],          \n",
    "                 [1,0,0,1],\n",
    "                 [0,1,1,0],\n",
    "                 [0,0,1,1]])"
   ]
  },
  {
   "cell_type": "code",
   "execution_count": 6,
   "id": "716ef90f",
   "metadata": {},
   "outputs": [
    {
     "name": "stdout",
     "output_type": "stream",
     "text": [
      "[[ 0.  2. -0.  0.  3.  0.  2. -0.  0.  3.  0.  0. -0.  0.  0.  0.  0. -0.\n",
      "   0.  0.]\n",
      " [ 0.  2. -0.  0.  3.  0.  0. -0.  0.  0.  0.  0. -0.  0.  0.  0.  2. -0.\n",
      "   0.  3.]\n",
      " [ 0.  0. -0.  0.  0.  0.  2. -0.  0.  3.  0.  2. -0.  0.  3.  0.  0. -0.\n",
      "   0.  0.]\n",
      " [ 0.  0. -0.  0.  0.  0.  0. -0.  0.  0.  0.  2. -0.  0.  3.  0.  2. -0.\n",
      "   0.  3.]\n",
      " [ 0.  2. -0.  3.  0.  0.  2. -0.  3.  0.  0.  0. -0.  0.  0.  0.  0. -0.\n",
      "   0.  0.]\n",
      " [ 0.  2. -0.  3.  0.  0.  0. -0.  0.  0.  0.  0. -0.  0.  0.  0.  2. -0.\n",
      "   3.  0.]\n",
      " [ 0.  0. -0.  0.  0.  0.  2. -0.  3.  0.  0.  2. -0.  3.  0.  0.  0. -0.\n",
      "   0.  0.]\n",
      " [ 0.  0. -0.  0.  0.  0.  0. -0.  0.  0.  0.  2. -0.  3.  0.  0.  2. -0.\n",
      "   3.  0.]\n",
      " [ 2.  0.  0. -0.  3.  2.  0.  0. -0.  3.  0.  0.  0. -0.  0.  0.  0.  0.\n",
      "  -0.  0.]\n",
      " [ 2.  0.  0. -0.  3.  0.  0.  0. -0.  0.  0.  0.  0. -0.  0.  2.  0.  0.\n",
      "  -0.  3.]\n",
      " [ 0.  0.  0. -0.  0.  2.  0.  0. -0.  3.  2.  0.  0. -0.  3.  0.  0.  0.\n",
      "  -0.  0.]\n",
      " [ 0.  0.  0. -0.  0.  0.  0.  0. -0.  0.  2.  0.  0. -0.  3.  2.  0.  0.\n",
      "  -0.  3.]\n",
      " [ 2.  0.  0.  3.  0.  2.  0.  0.  3.  0.  0.  0.  0.  0.  0.  0.  0.  0.\n",
      "   0.  0.]\n",
      " [ 2.  0.  0.  3.  0.  0.  0.  0.  0.  0.  0.  0.  0.  0.  0.  2.  0.  0.\n",
      "   3.  0.]\n",
      " [ 0.  0.  0.  0.  0.  2.  0.  0.  3.  0.  2.  0.  0.  3.  0.  0.  0.  0.\n",
      "   0.  0.]\n",
      " [ 0.  0.  0.  0.  0.  0.  0.  0.  0.  0.  2.  0.  0.  3.  0.  2.  0.  0.\n",
      "   3.  0.]\n",
      " [ 0.  2.  3. -0. -0.  0.  2.  3. -0. -0.  0.  0.  0. -0. -0.  0.  0.  0.\n",
      "  -0. -0.]\n",
      " [ 0.  2.  3. -0. -0.  0.  0.  0. -0. -0.  0.  0.  0. -0. -0.  0.  2.  3.\n",
      "  -0. -0.]\n",
      " [ 0.  0.  0. -0. -0.  0.  2.  3. -0. -0.  0.  2.  3. -0. -0.  0.  0.  0.\n",
      "  -0. -0.]\n",
      " [ 0.  0.  0. -0. -0.  0.  0.  0. -0. -0.  0.  2.  3. -0. -0.  0.  2.  3.\n",
      "  -0. -0.]\n",
      " [ 2.  0.  3.  0.  0.  2.  0.  3.  0.  0.  0.  0.  0.  0.  0.  0.  0.  0.\n",
      "   0.  0.]\n",
      " [ 2.  0.  3.  0.  0.  0.  0.  0.  0.  0.  0.  0.  0.  0.  0.  2.  0.  3.\n",
      "   0.  0.]\n",
      " [ 0.  0.  0.  0.  0.  2.  0.  3.  0.  0.  2.  0.  3.  0.  0.  0.  0.  0.\n",
      "   0.  0.]\n",
      " [ 0.  0.  0.  0.  0.  0.  0.  0.  0.  0.  2.  0.  3.  0.  0.  2.  0.  3.\n",
      "   0.  0.]]\n"
     ]
    }
   ],
   "source": [
    "list = []\n",
    "extremal_points = np.empty(shape=[1,preps*meas])\n",
    "for k in range(len(q_x)):\n",
    "    for i in range(len(M_zy)):\n",
    "        for j in range(meas):\n",
    "            q_xyz = M_zy[i,j]*q_x[k]\n",
    "            list.append(q_xyz)\n",
    "        vertex = np.array(list)\n",
    "       # print(array)\n",
    "        extremal_points = np.vstack([extremal_points,vertex.flatten()])\n",
    "        list = []\n",
    "extremal_points = extremal_points[1:,:]\n",
    "#print(extremal_points.shape)\n",
    "print(extremal_points)"
   ]
  },
  {
   "cell_type": "code",
   "execution_count": 8,
   "id": "4b9ee619",
   "metadata": {},
   "outputs": [],
   "source": [
    "list0 = []\n",
    "for i in range(len(q_x)*len(M_zy)):\n",
    "    list0.append([1])\n",
    "list0 =  np.array(list0)\n",
    "extremal_points = np.hstack((list0,extremal_points)) # Add an extra 1 as the first element of all extremal points\n",
    "np.savetxt('extremal_points_3.txt',extremal_points)      # just to match the structure of data accepted in \"POLYMAKE\""
   ]
  }
 ],
 "metadata": {
  "kernelspec": {
   "display_name": "Python 3 (ipykernel)",
   "language": "python",
   "name": "python3"
  },
  "language_info": {
   "codemirror_mode": {
    "name": "ipython",
    "version": 3
   },
   "file_extension": ".py",
   "mimetype": "text/x-python",
   "name": "python",
   "nbconvert_exporter": "python",
   "pygments_lexer": "ipython3",
   "version": "3.10.8"
  }
 },
 "nbformat": 4,
 "nbformat_minor": 5
}
