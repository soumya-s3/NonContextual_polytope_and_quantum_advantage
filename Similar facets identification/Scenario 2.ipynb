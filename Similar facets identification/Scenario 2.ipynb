{
 "cells": [
  {
   "cell_type": "markdown",
   "metadata": {},
   "source": [
    "# Scenario 2 "
   ]
  },
  {
   "cell_type": "markdown",
   "metadata": {},
   "source": [
    "Preparatioin equivalence : $\\frac{1}{3}(x_0 + x_1 + x_2) = \\frac{1}{2}(x_0+x_3)$ <br> Measurement choice(y) : 3 <br> Possible outcomes(z) : 2"
   ]
  },
  {
   "cell_type": "code",
   "execution_count": 2,
   "metadata": {},
   "outputs": [],
   "source": [
    "import numpy as np"
   ]
  },
  {
   "cell_type": "code",
   "execution_count": 3,
   "metadata": {},
   "outputs": [],
   "source": [
    "prep = 4   # number of preparations\n",
    "mea = 3   # number of measurements"
   ]
  },
  {
   "cell_type": "markdown",
   "metadata": {},
   "source": [
    "Rearrange the facet inequalities in terms of outcome zero $(z=0)$ variables using the relation $p\\big(z=0\\big/x,y\\big) = 1-p\\big(z=1\\big/x,y\\big)$"
   ]
  },
  {
   "cell_type": "code",
   "execution_count": 4,
   "metadata": {},
   "outputs": [],
   "source": [
    "def rearranging_facet(x):             \n",
    "    rows = len(x)\n",
    "    cols = len(x[0])\n",
    "    midcol = int((cols-1)/2)\n",
    "    for j in range (midcol+1, cols):    \n",
    "        x[:,:1] = x[:,:1]+x[:,j:j+1]\n",
    "    for i in range (1, midcol+1):\n",
    "        x[:,i] = x[:,i]-x[:,i+ midcol]\n",
    "        x[:,i+ midcol] = x[:,i+ midcol]-x[:,i+ midcol]\n",
    "    return x"
   ]
  },
  {
   "cell_type": "markdown",
   "metadata": {},
   "source": [
    "Reduce the number of preparation variables using the equivalence condition in preparation <br> We can replace $x_3$ by $-\\frac{1}{3}(x_0)+\\frac{2}{3}(x_1+x_2)$ $\\forall z,y$. So essentially we replace $p(z|x_3,y)$ by $-\\frac{1}{3} p(z|x_0,y) + \\frac{2}{3}\\big(p(z|x_1,y)+p(z|x_2,y)\\big)$"
   ]
  },
  {
   "cell_type": "code",
   "execution_count": 5,
   "metadata": {},
   "outputs": [],
   "source": [
    "def variable_reducer(x):\n",
    "    for y in range(mea):\n",
    "        x[:,1 + prep*y] = x[:,1 + prep*y] - (1/3)*x[:,4 + prep*y] \n",
    "        x[:,2 + prep*y] = x[:,2 + prep*y] + (2/3)*x[:,4 + prep*y] \n",
    "        x[:,3 + prep*y] = x[:,3 + prep*y] + (2/3)*x[:,4 + prep*y] \n",
    "        x[:,4 + prep*y] = x[:,4 + prep*y] - x[:,4 + prep*y] \n",
    "    return x    "
   ]
  },
  {
   "cell_type": "code",
   "execution_count": 8,
   "metadata": {},
   "outputs": [],
   "source": [
    "facet = np.loadtxt(\"facets q2\")     # Load the file containing the facet inequalities of Noncontextual polytope\n",
    "facet = rearranging_facet(facet)    # First rearrange then apply variable_reducer\n",
    "facet = variable_reducer(facet)"
   ]
  },
  {
   "cell_type": "code",
   "execution_count": 11,
   "metadata": {},
   "outputs": [
    {
     "name": "stdout",
     "output_type": "stream",
     "text": [
      "Total number of facets :  48\n"
     ]
    }
   ],
   "source": [
    "print(\"Total number of facets : \",len(facet))"
   ]
  },
  {
   "cell_type": "markdown",
   "metadata": {},
   "source": [
    "# Symmetry in Preparation(x)"
   ]
  },
  {
   "cell_type": "markdown",
   "metadata": {},
   "source": [
    "Interchange between preparation variables and check if any particular inequality changes to some other inequality, if so, then group them as equivalent facet inequality."
   ]
  },
  {
   "cell_type": "code",
   "execution_count": 12,
   "metadata": {},
   "outputs": [
    {
     "name": "stdout",
     "output_type": "stream",
     "text": [
      "[[0, 31], [2, 43], [4, 7], [7, 4], [8, 16], [10, 26], [11, 29], [13, 20], [14, 34], [16, 8], [17, 45], [18, 40], [19, 24], [20, 13], [21, 32], [22, 42], [24, 19], [26, 10], [27, 39], [28, 33], [29, 11], [30, 47], [31, 0], [32, 21], [33, 28], [34, 14], [35, 44], [37, 38], [38, 37], [39, 27], [40, 18], [42, 22], [43, 2], [44, 35], [45, 17], [47, 30]]\n"
     ]
    }
   ],
   "source": [
    "no_of_sym = 1     # Number of symmetry operations applied\n",
    "# Symmetry operations considered : x_1 <-> x_2 ; \n",
    "# Prepare two lists according to the symmetry operations\n",
    "# for symmetry x_i <-> x_j, include i to prep_sym_1 & j to prep_sym_2\n",
    "prep_sym_1 = [1] \n",
    "prep_sym_2 = [2]  # check symmetry by interchanging between r th elements from these two lists\n",
    "\n",
    "equiv_facets_1 = []    # equivalent facets initialized\n",
    "for r in range(no_of_sym):\n",
    "    i,j = prep_sym_1[r],prep_sym_2[r]\n",
    "    facet_copy = np.copy(facet)\n",
    "    for y in range(mea):\n",
    "        facet_copy[:,[i+1+prep*y,j+1+prep*y]] = facet_copy[:,[j+1+prep*y,i+1+prep*y]]\n",
    "    facet_copy = variable_reducer(facet_copy)\n",
    "    for p in range(len(facet)):\n",
    "        for q in range(len(facet_copy)):\n",
    "            comparison = facet[p] == facet_copy[q]\n",
    "            if (q != p):\n",
    "                if comparison.all() == True:\n",
    "                    #print (facet[i],i,j)\n",
    "                    equiv_facets_1.append([p,q])\n",
    "print(equiv_facets_1) # A list containing lists of two elements which are equivalent facets"
   ]
  },
  {
   "cell_type": "markdown",
   "metadata": {},
   "source": [
    "# Symmetry in measurement variables M_{z/y}"
   ]
  },
  {
   "cell_type": "code",
   "execution_count": 44,
   "metadata": {},
   "outputs": [
    {
     "name": "stdout",
     "output_type": "stream",
     "text": [
      "[[0, 18], [2, 17], [4, 13], [7, 20], [8, 16], [11, 19], [12, 23], [13, 4], [16, 8], [17, 2], [18, 0], [19, 11], [20, 7], [21, 22], [22, 21], [23, 12], [24, 29], [27, 28], [28, 27], [29, 24], [30, 38], [31, 40], [32, 42], [33, 39], [35, 44], [37, 47], [38, 30], [39, 33], [40, 31], [41, 46], [42, 32], [43, 45], [44, 35], [45, 43], [46, 41], [47, 37], [0, 22], [4, 10], [7, 26], [8, 24], [10, 4], [11, 29], [12, 25], [14, 17], [16, 19], [17, 14], [18, 27], [19, 16], [21, 28], [22, 0], [24, 8], [25, 12], [26, 7], [27, 18], [28, 21], [29, 11], [30, 35], [31, 42], [32, 33], [33, 32], [34, 45], [35, 30], [36, 41], [37, 38], [38, 37], [39, 40], [40, 39], [41, 36], [42, 31], [44, 47], [45, 34], [47, 44], [0, 28], [2, 14], [5, 6], [6, 5], [8, 11], [10, 13], [11, 8], [13, 10], [14, 2], [16, 29], [18, 21], [19, 24], [20, 26], [21, 18], [22, 27], [23, 25], [24, 19], [25, 23], [26, 20], [27, 22], [28, 0], [29, 16], [30, 47], [31, 33], [32, 40], [33, 31], [34, 43], [35, 37], [36, 46], [37, 35], [38, 44], [39, 42], [40, 32], [42, 39], [43, 34], [44, 38], [46, 36], [47, 30]]\n"
     ]
    }
   ],
   "source": [
    "# Interchange y indices keeping z fixed\n",
    "# 3 Symmetries applied : M_(0/0) <-> M_(0/1) ;  M_(0/0) <-> M_(0/2) ; M_(0/1) <-> M_(0/2) \n",
    "## ATTENTION : these symmetries are applied separately and checked for equivalence in each case ; then we output all of them together\n",
    "# for symmetry M_(z/y_i) <-> M_(z/y_j), include i to mea_sym_1 & j to mea_sym_2\n",
    "mea_sym_1 = [0, 0, 1] \n",
    "mea_sym_2 = [1, 2, 2]\n",
    "no_of_sym = len(mea_sym_1)\n",
    "equiv_facets_2= [] \n",
    "for y in range(no_of_sym):\n",
    "    y1,y2 = mea_sym_1[y],mea_sym_2[y]\n",
    "    facet_copy = np.copy(facet)\n",
    "    for i in range(prep):\n",
    "        facet_copy[:,[i+1+prep*y1,i+1+prep*y2]] = facet_copy[:,[i+1+prep*y2,i+1+prep*y1]]\n",
    "    for i in range (len(facet)):\n",
    "        for j in range (len(facet_copy)):\n",
    "            comparison = facet[i] == facet_copy[j]\n",
    "            if (j != i):\n",
    "                if comparison.all() == True:\n",
    "                    #print (facet[i],i,j)\n",
    "                    equiv_facets_2.append([i,j])\n",
    "print(equiv_facets_2)"
   ]
  },
  {
   "cell_type": "code",
   "execution_count": 42,
   "metadata": {},
   "outputs": [
    {
     "name": "stdout",
     "output_type": "stream",
     "text": [
      "[[0, 16], [3, 15], [4, 17], [7, 45], [8, 31], [11, 33], [12, 41], [15, 3], [16, 0], [17, 4], [18, 35], [21, 37], [28, 29], [29, 28], [31, 8], [32, 38], [33, 11], [35, 18], [37, 21], [38, 32], [40, 44], [41, 12], [44, 40], [45, 7], [0, 44], [2, 13], [8, 18], [13, 2], [16, 40], [18, 8], [19, 39], [20, 43], [22, 47], [23, 46], [24, 27], [27, 24], [30, 42], [31, 35], [35, 31], [39, 19], [40, 16], [42, 30], [43, 20], [44, 0], [46, 23], [47, 22], [1, 5], [5, 1], [10, 14], [11, 21], [14, 10], [19, 22], [21, 11], [22, 19], [24, 42], [25, 36], [26, 34], [27, 30], [28, 38], [29, 32], [30, 27], [32, 29], [33, 37], [34, 26], [36, 25], [37, 33], [38, 28], [39, 47], [42, 24], [47, 39]]\n"
     ]
    }
   ],
   "source": [
    "# Interchange z indices keeping y fixed\n",
    "# 3 Symmetries applied : M_(0/0) <-> M_(1/0); M_(0/1) <-> M_(1/1); M_(0/2) <-> M_(1/2)  \n",
    "## ATTENTION : these symmetries are applied separately and checked for equivalence in each case ; then we output all of them together\n",
    "equiv_facets_3 = []\n",
    "for y in range(mea):\n",
    "    facet_copy = np.copy(facet)\n",
    "    for i in range(prep):\n",
    "        facet_copy[:,[i+1+prep*y,i+1+prep*y+prep*mea]] = facet_copy[:,[i+1+prep*y+prep*mea,i+1+prep*y]]\n",
    "    facet_copy = rearranging_facet(facet_copy)\n",
    "    for i in range (len(facet)):\n",
    "        for j in range (len(facet_copy)):\n",
    "            comparison = facet[i] == facet_copy[j]\n",
    "            if (j != i):\n",
    "                if comparison.all() == True:\n",
    "                #print (facet[i],i,j)\n",
    "                    equiv_facets_3.append([i,j])\n",
    "print(equiv_facets_3)"
   ]
  },
  {
   "cell_type": "code",
   "execution_count": 45,
   "metadata": {},
   "outputs": [
    {
     "name": "stdout",
     "output_type": "stream",
     "text": [
      "[[1, 5, 6], [3, 15], [2, 34, 4, 7, 10, 43, 45, 13, 14, 17, 20, 26], [36, 41, 12, 46, 23, 25], [0, 8, 11, 16, 18, 19, 21, 22, 24, 27, 28, 29, 30, 31, 32, 33, 35, 37, 38, 39, 40, 42, 44, 47]]\n"
     ]
    }
   ],
   "source": [
    "equiv_facets = np.vstack((equiv_facets_1, equiv_facets_2, equiv_facets_3))\n",
    "import itertools\n",
    "equiv_facets = equiv_facets.tolist()\n",
    "facets_set = set(itertools.chain.from_iterable(equiv_facets)) \n",
    "\n",
    "for each in facets_set:\n",
    "  components = [x for x in equiv_facets if each in x]\n",
    "  for i in components:\n",
    "    equiv_facets.remove(i)\n",
    "  equiv_facets += [list(set(itertools.chain.from_iterable(components)))]\n",
    "print(equiv_facets)"
   ]
  },
  {
   "cell_type": "code",
   "execution_count": 46,
   "metadata": {},
   "outputs": [
    {
     "name": "stdout",
     "output_type": "stream",
     "text": [
      "Total number of equivalent class of facets :  5\n"
     ]
    }
   ],
   "source": [
    "print(\"Total number of equivalent class of facets : \",len(equiv_facets))"
   ]
  },
  {
   "cell_type": "code",
   "execution_count": 47,
   "metadata": {},
   "outputs": [
    {
     "name": "stdout",
     "output_type": "stream",
     "text": [
      "Representing Facet inequality :  [ 0.          0.          0.          0.          0.          0.\n",
      "  0.          0.          0.         -0.33333333  0.66666667  0.66666667\n",
      "  0.          0.          0.          0.          0.          0.\n",
      "  0.          0.          0.          0.          0.          0.\n",
      "  0.        ] Facet no.  1\n",
      "Orbit size =  3\n",
      "Representing Facet inequality :  [ 3.  1. -2. -2.  0.  0.  0.  0.  0.  0.  0.  0.  0.  0.  0.  0.  0.  0.\n",
      "  0.  0.  0.  0.  0.  0.  0.] Facet no.  3\n",
      "Orbit size =  2\n",
      "Representing Facet inequality :  [0. 0. 0. 0. 0. 0. 0. 1. 0. 0. 0. 0. 0. 0. 0. 0. 0. 0. 0. 0. 0. 0. 0. 0.\n",
      " 0.] Facet no.  2\n",
      "Orbit size =  12\n",
      "Representing Facet inequality :  [0. 0. 0. 0. 0. 0. 0. 0. 0. 1. 0. 0. 0. 0. 0. 0. 0. 0. 0. 0. 0. 0. 0. 0.\n",
      " 0.] Facet no.  36\n",
      "Orbit size =  6\n",
      "Representing Facet inequality :  [ 2.  1. -2.  0.  0. -1.  0.  2.  0.  0.  0.  0.  0.  0.  0.  0.  0.  0.\n",
      "  0.  0.  0.  0.  0.  0.  0.] Facet no.  0\n",
      "Orbit size =  24\n"
     ]
    }
   ],
   "source": [
    "# Choose one facet from each equivalent class to represent\n",
    "for i in equiv_facets:            \n",
    "    j = i[0]\n",
    "    print(\"Representing Facet inequality : \",facet[j],\"Facet no. \",j)\n",
    "    print('Orbit size = ',len(i))"
   ]
  },
  {
   "cell_type": "markdown",
   "metadata": {},
   "source": [
    "## Inequalities included in article"
   ]
  },
  {
   "cell_type": "code",
   "execution_count": 51,
   "metadata": {},
   "outputs": [
    {
     "name": "stdout",
     "output_type": "stream",
     "text": [
      "[ 0.          0.          0.          0.          0.          0.\n",
      "  0.          0.          0.         -0.33333333  0.66666667  0.66666667\n",
      "  0.          0.          0.          0.          0.          0.\n",
      "  0.          0.          0.          0.          0.          0.\n",
      "  0.        ]\n",
      "[ 2.  1. -2.  0.  0. -1.  0.  2.  0.  0.  0.  0.  0.  0.  0.  0.  0.  0.\n",
      "  0.  0.  0.  0.  0.  0.  0.]\n"
     ]
    }
   ],
   "source": [
    "print(facet[1])  # choosen from class 1          ### The choice is arbitrary\n",
    "print(facet[0])  # choosen from class 5"
   ]
  },
  {
   "cell_type": "markdown",
   "metadata": {},
   "source": [
    "Applying the following Symmetry operation - <br>\n",
    "$i) M(0/y_0) <--> M(0/y_2)$  <br>\n",
    "$ii)$ write the probabilities in terms of outcome $1$ and then applying the symmetry $M(0/y) <--> M(1/y)$ <br>\n",
    "reveals that the first two classes are equivalent"
   ]
  }
 ],
 "metadata": {
  "kernelspec": {
   "display_name": "Python 3 (ipykernel)",
   "language": "python",
   "name": "python3"
  },
  "language_info": {
   "codemirror_mode": {
    "name": "ipython",
    "version": 3
   },
   "file_extension": ".py",
   "mimetype": "text/x-python",
   "name": "python",
   "nbconvert_exporter": "python",
   "pygments_lexer": "ipython3",
   "version": "3.10.8"
  }
 },
 "nbformat": 4,
 "nbformat_minor": 4
}
