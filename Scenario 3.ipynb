{
 "cells": [
  {
   "cell_type": "markdown",
   "metadata": {},
   "source": [
    "# Scenario 3"
   ]
  },
  {
   "cell_type": "markdown",
   "metadata": {},
   "source": [
    "Preparatioin equivalence : $\\frac{1}{2}(x_0 + x_1) = \\frac{1}{3}(x_2+x_3+x_4)$ <br> Measurement choice(y) : 2 <br> Possible outcomes(z) : 2"
   ]
  },
  {
   "cell_type": "code",
   "execution_count": 1,
   "metadata": {},
   "outputs": [],
   "source": [
    "import numpy as np"
   ]
  },
  {
   "cell_type": "code",
   "execution_count": 2,
   "metadata": {},
   "outputs": [],
   "source": [
    "prep = 5   # number of preparations\n",
    "mea = 2   # number of measurements"
   ]
  },
  {
   "cell_type": "markdown",
   "metadata": {},
   "source": [
    "Rearrange the facet inequalities in terms of outcome zero $(z=0)$ variables using the relation $p\\big(z=0\\big/x,y\\big) = 1-p\\big(z=1\\big/x,y\\big)$"
   ]
  },
  {
   "cell_type": "code",
   "execution_count": 3,
   "metadata": {},
   "outputs": [],
   "source": [
    "def rearranging_facet(x):             \n",
    "    rows = len(x)\n",
    "    cols = len(x[0])\n",
    "    midcol = int((cols-1)/2)\n",
    "    for j in range (midcol+1, cols):    \n",
    "        x[:,:1] = x[:,:1]+x[:,j:j+1]\n",
    "    for i in range (1, midcol+1):\n",
    "        x[:,i] = x[:,i]-x[:,i+ midcol]\n",
    "        x[:,i+ midcol] = x[:,i+ midcol]-x[:,i+ midcol]\n",
    "    return x    "
   ]
  },
  {
   "cell_type": "markdown",
   "metadata": {},
   "source": [
    "Reduce the number of preparation variables using the equivalence condition in preparation <br> We can replace $x_4$ by $\\frac{3}{2}(x_0+x_1)-x_2-x_3$ $\\forall z,y$. So essentially we replace $p(z|x_4,y)$ by $\\frac{3}{2}\\big(p(z|x_0,y) + p(z|x_1,y)\\big) - p(z|x_2,y)-p(z|x_3,y)$"
   ]
  },
  {
   "cell_type": "code",
   "execution_count": 4,
   "metadata": {},
   "outputs": [],
   "source": [
    "def variable_reducer(x):\n",
    "    for y in range(mea):\n",
    "        x[:,1 + prep*y] = x[:,1 + prep*y] + (3/2)*x[:,5 + prep*y] \n",
    "        x[:,2 + prep*y] = x[:,2 + prep*y] + (3/2)*x[:,5 + prep*y] \n",
    "        x[:,3 + prep*y] = x[:,3 + prep*y] - x[:,5 + prep*y] \n",
    "        x[:,4 + prep*y] = x[:,4 + prep*y] - x[:,5 + prep*y] \n",
    "        x[:,5 + prep*y] = x[:,5 + prep*y] - x[:,5 + prep*y]\n",
    "    return x    "
   ]
  },
  {
   "cell_type": "code",
   "execution_count": 5,
   "metadata": {},
   "outputs": [],
   "source": [
    "facet = np.loadtxt(\"facets q3\")     # Load the file containing the facet inequalities of Noncontextual polytope\n",
    "facet = rearranging_facet(facet)    # First rearrange then apply variable_reducer\n",
    "facet = variable_reducer(facet)"
   ]
  },
  {
   "cell_type": "code",
   "execution_count": 8,
   "metadata": {},
   "outputs": [
    {
     "name": "stdout",
     "output_type": "stream",
     "text": [
      "Total number of facets :  44\n"
     ]
    }
   ],
   "source": [
    "print(\"Total number of facets : \",len(facet))"
   ]
  },
  {
   "cell_type": "markdown",
   "metadata": {},
   "source": [
    "## Symmetry in Preparation(x)"
   ]
  },
  {
   "cell_type": "markdown",
   "metadata": {},
   "source": [
    "Interchange between preparation variables and check if any particular inequality changes to some other inequality, if so, then group them as equivalent facet inequality."
   ]
  },
  {
   "cell_type": "code",
   "execution_count": 9,
   "metadata": {},
   "outputs": [
    {
     "name": "stdout",
     "output_type": "stream",
     "text": [
      "[[1, 3], [3, 1], [7, 23], [15, 18], [16, 19], [18, 15], [19, 16], [20, 30], [22, 42], [23, 7], [24, 34], [25, 43], [26, 28], [28, 26], [29, 41], [30, 20], [31, 38], [33, 39], [34, 24], [35, 37], [36, 40], [37, 35], [38, 31], [39, 33], [40, 36], [41, 29], [42, 22], [43, 25], [4, 8], [8, 4], [11, 17], [12, 27], [13, 21], [15, 24], [17, 11], [18, 34], [20, 36], [21, 13], [24, 15], [25, 31], [27, 12], [29, 33], [30, 40], [31, 25], [33, 29], [34, 18], [36, 20], [38, 43], [39, 41], [40, 30], [41, 39], [43, 38], [9, 12], [10, 11], [11, 10], [12, 9], [15, 16], [16, 15], [18, 19], [19, 18], [20, 26], [22, 29], [26, 20], [28, 30], [29, 22], [30, 28], [31, 35], [35, 31], [37, 38], [38, 37], [41, 42], [42, 41], [9, 27], [10, 17], [16, 24], [17, 10], [19, 34], [22, 33], [24, 16], [25, 35], [26, 36], [27, 9], [28, 40], [33, 22], [34, 19], [35, 25], [36, 26], [37, 43], [39, 42], [40, 28], [42, 39], [43, 37]]\n"
     ]
    }
   ],
   "source": [
    "no_of_sym = 4     # Number of symmetry operations applied\n",
    "# Symmetry operations considered : x_0 <-> x_1 ; x_2 <-> x_3 ; x_3 <-> x_4 ; x_2 <-> x_4 \n",
    "# Prepare two lists according to the symmetry operations\n",
    "# for symmetry x_i <-> x_j, include i to prep_sym_1 & j to prep_sym_2\n",
    "prep_sym_1 = [0,2,3, 2] \n",
    "prep_sym_2 = [1,3,4, 4]  # check symmetry by interchanging between r th elements from these two lists\n",
    "\n",
    "equiv_facets_1 = []    # equivalent facets initialized\n",
    "for r in range(no_of_sym):\n",
    "    i,j = prep_sym_1[r],prep_sym_2[r]\n",
    "    facet_copy = np.copy(facet)\n",
    "    for y in range(mea):\n",
    "        facet_copy[:,[i+1+prep*y,j+1+prep*y]] = facet_copy[:,[j+1+prep*y,i+1+prep*y]]\n",
    "    facet_copy = variable_reducer(facet_copy)\n",
    "    for p in range(len(facet)):\n",
    "        for q in range(len(facet_copy)):\n",
    "            comparison = facet[p] == facet_copy[q]\n",
    "            if (q != p):\n",
    "                if comparison.all() == True:\n",
    "                    #print (facet[i],i,j)\n",
    "                    equiv_facets_1.append([p,q])\n",
    "print(equiv_facets_1) # A list containing lists of two elements which are equivalent facets"
   ]
  },
  {
   "cell_type": "markdown",
   "metadata": {},
   "source": [
    "## Symmetry in measurement variables M_{z/y}"
   ]
  },
  {
   "cell_type": "markdown",
   "metadata": {},
   "source": [
    "Interchange z keeping y fixed and check for equivalent facets"
   ]
  },
  {
   "cell_type": "code",
   "execution_count": 10,
   "metadata": {},
   "outputs": [
    {
     "name": "stdout",
     "output_type": "stream",
     "text": [
      "[[0, 2], [1, 23], [2, 0], [3, 7], [4, 13], [5, 6], [6, 5], [7, 3], [8, 21], [9, 10], [10, 9], [11, 12], [12, 11], [13, 4], [14, 32], [15, 20], [16, 26], [17, 27], [18, 30], [19, 28], [20, 15], [21, 8], [22, 37], [23, 1], [24, 36], [25, 39], [26, 16], [27, 17], [28, 19], [29, 38], [30, 18], [31, 41], [32, 14], [33, 43], [34, 40], [35, 42], [36, 24], [37, 22], [38, 29], [39, 25], [40, 34], [41, 31], [42, 35], [43, 33]]\n"
     ]
    }
   ],
   "source": [
    "# Symmetry applied : M_(0/0) <-> M_(1/0) and M_(0/1) <-> M_(1/1)\n",
    "facet_copy = np.copy(facet)\n",
    "for i in range(prep*mea):\n",
    "    facet_copy[:,[i+1,i+1+prep*mea]] = facet_copy[:,[i+1+prep*mea,i+1]]\n",
    "facet_copy = rearranging_facet(facet_copy)\n",
    "\n",
    "equiv_facets_2 = []\n",
    "for i in range (len(facet)):\n",
    "    for j in range (len(facet_copy)):\n",
    "        comparison = facet[i] == facet_copy[j]\n",
    "        if (j != i):\n",
    "            if comparison.all() == True:\n",
    "                #print (facet[i],i,j)\n",
    "                equiv_facets_2.append([i,j])\n",
    "print(equiv_facets_2)         "
   ]
  },
  {
   "cell_type": "markdown",
   "metadata": {},
   "source": [
    "Interchange y keeping z fixed and check for equivalent facets"
   ]
  },
  {
   "cell_type": "code",
   "execution_count": 11,
   "metadata": {},
   "outputs": [
    {
     "name": "stdout",
     "output_type": "stream",
     "text": [
      "[[1, 14], [4, 11], [8, 17], [11, 4], [12, 13], [13, 12], [14, 1], [15, 18], [16, 19], [17, 8], [18, 15], [19, 16], [20, 30], [21, 27], [22, 35], [23, 32], [24, 34], [25, 33], [26, 28], [27, 21], [28, 26], [29, 31], [30, 20], [31, 29], [32, 23], [33, 25], [34, 24], [35, 22], [36, 40], [37, 42], [38, 41], [39, 43], [40, 36], [41, 38], [42, 37], [43, 39]]\n"
     ]
    }
   ],
   "source": [
    "# Symmetry applied : M_(0/0) <-> M_(0/1) \n",
    "facet_copy = np.copy(facet)\n",
    "for i in range(prep):\n",
    "    facet_copy[:,[i+1,i+1+prep]] = facet_copy[:,[i+1+prep,i+1]]\n",
    "equiv_facets_3 = []\n",
    "for i in range (len(facet)):\n",
    "    for j in range (len(facet_copy)):\n",
    "        comparison = facet[i] == facet_copy[j]\n",
    "        if (j != i):\n",
    "            if comparison.all() == True:\n",
    "                #print (facet[i],i,j)\n",
    "                equiv_facets_3.append([i,j])\n",
    "print(equiv_facets_3)    "
   ]
  },
  {
   "cell_type": "code",
   "execution_count": 12,
   "metadata": {},
   "outputs": [
    {
     "name": "stdout",
     "output_type": "stream",
     "text": [
      "[[1, 32], [4, 12], [8, 27], [11, 4], [12, 13], [13, 11], [14, 1], [15, 38], [16, 37], [17, 8], [18, 31], [19, 35], [20, 29], [21, 17], [22, 16], [23, 14], [24, 43], [25, 40], [26, 22], [27, 21], [28, 42], [29, 15], [30, 41], [31, 30], [32, 23], [33, 24], [34, 25], [35, 28], [36, 33], [37, 26], [38, 20], [39, 34], [40, 39], [41, 18], [42, 19], [43, 36]]\n"
     ]
    }
   ],
   "source": [
    "#  Here we relabel the measurement variables M_{z/y}\n",
    "#  M_{z1/y1} --> M_{z2/y2} refers to the fact that M_{z1/y1} is relabeled by M_{z2/y2}\n",
    "#  Applied relabeling : M_(1/1) -> M_(0/0) ; M_(0/0) -> M_(0/1) ; M_(0/1) -> M_(1/0) ; M_(1/0) -> M_(1/1)\n",
    "#  Create lists containing the values of [z_1,y_1,z_2,y_2]\n",
    "facet_copy = np.copy(facet)\n",
    "mea_var = [[1,1,0,0],[0,0,0,1],[0,1,1,0],[1,0,1,1]]\n",
    "for r in range(len(mea_var)):\n",
    "    z_1,y_1,z_2,y_2 = mea_var[r][0],mea_var[r][1],mea_var[r][2],mea_var[r][3]\n",
    "    for p in range(prep):\n",
    "        facet_copy[:,p+1+prep*mea*z_2+prep*y_2] = facet[:,p+1+prep*mea*z_1+prep*y_1]\n",
    "facet_copy = rearranging_facet(facet_copy)\n",
    "equiv_facets_4 = []\n",
    "for i in range (len(facet)):\n",
    "    for j in range (len(facet_copy)):\n",
    "        comparison = facet[i] == facet_copy[j]\n",
    "        if (j != i):\n",
    "            if comparison.all() == True:\n",
    "                #print (facet[i],i,j)\n",
    "                equiv_facets_4.append([i,j])\n",
    "print(equiv_facets_4)        "
   ]
  },
  {
   "cell_type": "code",
   "execution_count": 13,
   "metadata": {},
   "outputs": [
    {
     "name": "stdout",
     "output_type": "stream",
     "text": [
      "[[0, 2], [5, 6], [4, 8, 9, 10, 11, 12, 13, 17, 21, 27], [32, 1, 3, 7, 14, 23], [15, 16, 18, 19, 20, 22, 24, 25, 26, 28, 29, 30, 31, 33, 34, 35, 36, 37, 38, 39, 40, 41, 42, 43]]\n"
     ]
    }
   ],
   "source": [
    "equiv_facets = np.vstack((equiv_facets_1, equiv_facets_2, equiv_facets_3, equiv_facets_4))\n",
    "import itertools\n",
    "equiv_facets = equiv_facets.tolist()\n",
    "facets_set = set(itertools.chain.from_iterable(equiv_facets)) \n",
    "\n",
    "for each in facets_set:\n",
    "  components = [x for x in equiv_facets if each in x]\n",
    "  for i in components:\n",
    "    equiv_facets.remove(i)\n",
    "  equiv_facets += [list(set(itertools.chain.from_iterable(components)))]\n",
    "print(equiv_facets)"
   ]
  },
  {
   "cell_type": "code",
   "execution_count": 15,
   "metadata": {},
   "outputs": [
    {
     "name": "stdout",
     "output_type": "stream",
     "text": [
      "Total number of equivalent class of facets :  5\n"
     ]
    }
   ],
   "source": [
    "print(\"Total number of equivalent class of facets : \",len(equiv_facets))"
   ]
  },
  {
   "cell_type": "code",
   "execution_count": 16,
   "metadata": {},
   "outputs": [
    {
     "name": "stdout",
     "output_type": "stream",
     "text": [
      "Representing Facet inequality :  [ 2. -3. -3.  2.  2.  0.  0.  0.  0.  0.  0.  0.  0.  0.  0.  0.  0.  0.\n",
      "  0.  0.  0.] Facet no.  0\n",
      "Orbit size =  2\n",
      "Representing Facet inequality :  [ 3.  0.  0.  0.  0.  0.  0. -3.  0.  0.  0.  0.  0.  0.  0.  0.  0.  0.\n",
      "  0.  0.  0.] Facet no.  5\n",
      "Orbit size =  2\n",
      "Representing Facet inequality :  [ 1.  0.  0.  0. -1.  0.  0.  0.  0.  0.  0.  0.  0.  0.  0.  0.  0.  0.\n",
      "  0.  0.  0.] Facet no.  4\n",
      "Orbit size =  10\n",
      "Representing Facet inequality :  [0. 0. 0. 0. 0. 0. 1. 0. 0. 0. 0. 0. 0. 0. 0. 0. 0. 0. 0. 0. 0.] Facet no.  32\n",
      "Orbit size =  6\n",
      "Representing Facet inequality :  [ 4.  0. -3.  0.  2.  0. -3.  0.  0.  2.  0.  0.  0.  0.  0.  0.  0.  0.\n",
      "  0.  0.  0.] Facet no.  15\n",
      "Orbit size =  24\n"
     ]
    }
   ],
   "source": [
    "# Choose one facet from each equivalent class to represent\n",
    "for i in equiv_facets:            \n",
    "    j = i[0]\n",
    "    print(\"Representing Facet inequality : \",facet[j],\"Facet no. \",j)\n",
    "    print('Orbit size = ',len(i))"
   ]
  },
  {
   "cell_type": "markdown",
   "metadata": {},
   "source": [
    "## Inequalities included in article "
   ]
  },
  {
   "cell_type": "markdown",
   "metadata": {},
   "source": [
    "Among the $5$ inequivalent facet inequalities we choose the nontrivial inequalities to check for any possible violation in quantum scenario and represent them in the article. "
   ]
  },
  {
   "cell_type": "code",
   "execution_count": 21,
   "metadata": {},
   "outputs": [
    {
     "name": "stdout",
     "output_type": "stream",
     "text": [
      "[ 0.  3.  3. -2. -2.  0.  0.  0.  0.  0.  0.  0.  0.  0.  0.  0.  0.  0.\n",
      "  0.  0.  0.] [ 2.  3.  0. -2.  0.  0.  0.  3. -2.  0.  0.  0.  0.  0.  0.  0.  0.  0.\n",
      "  0.  0.  0.]\n"
     ]
    }
   ],
   "source": [
    "print(facet[2])  # choosen from class 1          ### The choice is arbitrary\n",
    "print(facet[40])  # choosen from class 5"
   ]
  }
 ],
 "metadata": {
  "kernelspec": {
   "display_name": "Python 3 (ipykernel)",
   "language": "python",
   "name": "python3"
  },
  "language_info": {
   "codemirror_mode": {
    "name": "ipython",
    "version": 3
   },
   "file_extension": ".py",
   "mimetype": "text/x-python",
   "name": "python",
   "nbconvert_exporter": "python",
   "pygments_lexer": "ipython3",
   "version": "3.10.8"
  }
 },
 "nbformat": 4,
 "nbformat_minor": 4
}
