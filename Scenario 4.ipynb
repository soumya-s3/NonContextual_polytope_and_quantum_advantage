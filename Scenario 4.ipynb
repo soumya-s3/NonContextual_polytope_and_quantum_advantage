{
 "cells": [
  {
   "cell_type": "markdown",
   "metadata": {},
   "source": [
    "# Scenario 4"
   ]
  },
  {
   "cell_type": "markdown",
   "metadata": {},
   "source": [
    "Preparatioin equivalence : $\\frac{1}{4}(x_0 + x_1 + x_2+x_3) = \\frac{1}{3}(x_0+x_1+x_4)$ <br> Measurement choice(y) : 2 <br> Possible outcomes(z) : 2"
   ]
  },
  {
   "cell_type": "code",
   "execution_count": 1,
   "metadata": {},
   "outputs": [],
   "source": [
    "import numpy as np"
   ]
  },
  {
   "cell_type": "code",
   "execution_count": 2,
   "metadata": {},
   "outputs": [],
   "source": [
    "prep = 5   # number of preparations\n",
    "mea = 2   # number of measurements"
   ]
  },
  {
   "cell_type": "code",
   "execution_count": 3,
   "metadata": {},
   "outputs": [],
   "source": [
    "def rearranging_facet(x):             \n",
    "    rows = len(x)\n",
    "    cols = len(x[0])\n",
    "    midcol = int((cols-1)/2)\n",
    "    for j in range (midcol+1, cols):    \n",
    "        x[:,:1] = x[:,:1]+x[:,j:j+1]\n",
    "    for i in range (1, midcol+1):\n",
    "        x[:,i] = x[:,i]-x[:,i+ midcol]\n",
    "        x[:,i+ midcol] = x[:,i+ midcol]-x[:,i+ midcol]\n",
    "    return x "
   ]
  },
  {
   "cell_type": "markdown",
   "metadata": {},
   "source": [
    "Reduce the number of preparation variables using the equivalence condition in preparation <br> We can replace $x_4$ by $-\\frac{1}{4}(x_0+x_1)+\\frac{3}{4}(x_2+x_3)$ $\\forall z,y$. So essentially we replace $p(z|x_4,y)$ by $-\\frac{1}{4}\\big(p(z|x_0,y) + p(z|x_1,y)\\big) +\\frac{3}{4}(x_2+x_3)$"
   ]
  },
  {
   "cell_type": "code",
   "execution_count": 4,
   "metadata": {},
   "outputs": [],
   "source": [
    "def variable_reducer(x):\n",
    "    for y in range(mea):\n",
    "        x[:,1 + prep*y] = x[:,1 + prep*y] - (1/4)*x[:,5 + prep*y] \n",
    "        x[:,2 + prep*y] = x[:,2 + prep*y] - (1/4)*x[:,5 + prep*y] \n",
    "        x[:,3 + prep*y] = x[:,3 + prep*y] + (3/4)*x[:,5 + prep*y] \n",
    "        x[:,4 + prep*y] = x[:,4 + prep*y] + (3/4)*x[:,5 + prep*y] \n",
    "        x[:,5 + prep*y] = x[:,5 + prep*y] - x[:,5 + prep*y]\n",
    "    return x    "
   ]
  },
  {
   "cell_type": "code",
   "execution_count": 5,
   "metadata": {},
   "outputs": [],
   "source": [
    "facet = np.loadtxt(\"facets q4\")     # Load the file containing the facet inequalities of Noncontextual polytope\n",
    "facet = rearranging_facet(facet)    # First rearrange then apply variable_reducer\n",
    "facet = variable_reducer(facet)"
   ]
  },
  {
   "cell_type": "code",
   "execution_count": 9,
   "metadata": {},
   "outputs": [
    {
     "name": "stdout",
     "output_type": "stream",
     "text": [
      "Total number of facets :  44\n"
     ]
    }
   ],
   "source": [
    "print(\"Total number of facets : \",len(facet))"
   ]
  },
  {
   "cell_type": "markdown",
   "metadata": {},
   "source": [
    "# Symmetry in Preparation(x) "
   ]
  },
  {
   "cell_type": "code",
   "execution_count": 10,
   "metadata": {},
   "outputs": [
    {
     "name": "stdout",
     "output_type": "stream",
     "text": [
      "[[7, 13], [8, 16], [9, 24], [11, 30], [13, 7], [16, 8], [17, 21], [19, 25], [21, 17], [23, 40], [24, 9], [25, 19], [26, 34], [27, 36], [28, 33], [30, 11], [33, 28], [34, 26], [36, 27], [37, 42], [39, 43], [40, 23], [42, 37], [43, 39], [1, 14], [2, 4], [4, 2], [10, 29], [12, 32], [14, 1], [15, 18], [17, 19], [18, 15], [19, 17], [20, 22], [21, 25], [22, 20], [23, 27], [25, 21], [26, 43], [27, 23], [28, 42], [29, 10], [31, 41], [32, 12], [33, 37], [34, 39], [35, 38], [36, 40], [37, 33], [38, 35], [39, 34], [40, 36], [41, 31], [42, 28], [43, 26]]\n"
     ]
    }
   ],
   "source": [
    "no_of_sym = 2     # Number of symmetry operations applied\n",
    "# Symmetry operations considered : x_0 <-> x_1 ; x_2 <-> x_3 \n",
    "# Prepare two lists according to the symmetry operations\n",
    "# for symmetry x_i <-> x_j, include i to prep_sym_1 & j to prep_sym_2\n",
    "## NOTE : these symmetries are applied separately and checked for equivalence in each case; then we output all of them together\n",
    "prep_sym_1 = [0,2] \n",
    "prep_sym_2 = [1,3]  # check symmetry by interchanging between r th elements from these two lists\n",
    "equiv_facets_1 = []    # equivalent facets initialized\n",
    "for r in range(no_of_sym):\n",
    "    i,j = prep_sym_1[r],prep_sym_2[r]\n",
    "    facet_copy = np.copy(facet)\n",
    "    for y in range(mea):\n",
    "        facet_copy[:,[i+1+prep*y,j+1+prep*y]] = facet_copy[:,[j+1+prep*y,i+1+prep*y]]\n",
    "    facet_copy = variable_reducer(facet_copy)\n",
    "    for p in range(len(facet)):\n",
    "        for q in range(len(facet_copy)):\n",
    "            comparison = facet[p] == facet_copy[q]\n",
    "            if (q != p):\n",
    "                if comparison.all() == True:\n",
    "                    #print (facet[i],i,j)\n",
    "                    equiv_facets_1.append([p,q])\n",
    "print(equiv_facets_1) # A list containing lists of two elements which are equivalent facets"
   ]
  },
  {
   "cell_type": "markdown",
   "metadata": {},
   "source": [
    "# Symmetry in measurement variables M_{z/y}"
   ]
  },
  {
   "cell_type": "code",
   "execution_count": 11,
   "metadata": {},
   "outputs": [
    {
     "name": "stdout",
     "output_type": "stream",
     "text": [
      "[[0, 3], [1, 2], [2, 1], [3, 0], [4, 14], [5, 6], [6, 5], [7, 8], [8, 7], [9, 11], [10, 12], [11, 9], [12, 10], [13, 16], [14, 4], [15, 18], [16, 13], [17, 19], [18, 15], [19, 17], [20, 22], [21, 25], [22, 20], [23, 27], [24, 30], [25, 21], [26, 33], [27, 23], [28, 34], [29, 32], [30, 24], [31, 35], [32, 29], [33, 26], [34, 28], [35, 31], [36, 40], [37, 43], [38, 41], [39, 42], [40, 36], [41, 38], [42, 39], [43, 37]]\n"
     ]
    }
   ],
   "source": [
    "# Interchange y indices keeping z fixed\n",
    "# Symmetry applied : M_(0/0) <-> M_(0/1) \n",
    "facet_copy = np.copy(facet)\n",
    "for i in range(prep):\n",
    "    facet_copy[:,[i+1,i+1+prep]] = facet_copy[:,[i+1+prep,i+1]]\n",
    "equiv_facets_2 = []\n",
    "for i in range (len(facet)):\n",
    "    for j in range (len(facet_copy)):\n",
    "        comparison = facet[i] == facet_copy[j]\n",
    "        if (j != i):\n",
    "            if comparison.all() == True:\n",
    "                #print (facet[i],i,j)\n",
    "                equiv_facets_2.append([i,j])\n",
    "print(equiv_facets_2) "
   ]
  },
  {
   "cell_type": "code",
   "execution_count": 14,
   "metadata": {},
   "outputs": [
    {
     "name": "stdout",
     "output_type": "stream",
     "text": [
      "[[0, 5], [1, 12], [2, 10], [3, 6], [4, 29], [5, 0], [6, 3], [7, 9], [8, 11], [9, 7], [10, 2], [11, 8], [12, 1], [13, 24], [14, 32], [15, 20], [16, 30], [17, 27], [18, 22], [19, 23], [20, 15], [21, 36], [22, 18], [23, 19], [24, 13], [25, 40], [26, 37], [27, 17], [28, 39], [29, 4], [30, 16], [31, 38], [32, 14], [33, 43], [34, 42], [35, 41], [36, 21], [37, 26], [38, 31], [39, 28], [40, 25], [41, 35], [42, 34], [43, 33]]\n"
     ]
    }
   ],
   "source": [
    "# Interchange z indices keeping y fixed\n",
    "# Symmetry applied : M_(0/0) <-> M_(1/0) and M_(0/1) <-> M_(1/1)\n",
    "facet_copy = np.copy(facet)\n",
    "for i in range(prep*mea):\n",
    "    facet_copy[:,[i+1,i+1+prep*mea]] = facet_copy[:,[i+1+prep*mea,i+1]]\n",
    "facet_copy = rearranging_facet(facet_copy)\n",
    "\n",
    "equiv_facets_3 = []\n",
    "for i in range (len(facet)):\n",
    "    for j in range (len(facet_copy)):\n",
    "        comparison = facet[i] == facet_copy[j]\n",
    "        if (j != i):\n",
    "            if comparison.all() == True:\n",
    "                #print (facet[i],i,j)\n",
    "                equiv_facets_3.append([i,j])\n",
    "print(equiv_facets_3) "
   ]
  },
  {
   "cell_type": "code",
   "execution_count": 17,
   "metadata": {},
   "outputs": [
    {
     "name": "stdout",
     "output_type": "stream",
     "text": [
      "[[0, 3], [1, 2], [2, 12], [3, 5], [4, 32], [5, 6], [6, 0], [7, 11], [8, 7], [9, 8], [10, 1], [11, 9], [12, 10], [13, 30], [14, 4], [15, 38], [16, 13], [17, 37], [18, 35], [19, 33], [20, 31], [21, 42], [22, 41], [23, 43], [24, 16], [25, 28], [26, 17], [27, 26], [28, 40], [29, 14], [30, 24], [31, 15], [32, 29], [33, 23], [34, 21], [35, 22], [36, 34], [37, 27], [38, 20], [39, 25], [40, 39], [41, 18], [42, 36], [43, 19]]\n"
     ]
    }
   ],
   "source": [
    "#  Here we relabel the measurement variables M_{z/y}\n",
    "#  M_{z1/y1} --> M_{z2/y2} refers to the fact that M_{z1/y1} is relabeled by M_{z2/y2}\n",
    "#  Applied relabeling : M_(1/1) -> M_(0/0) ; M_(0/0) -> M_(0/1) ; M_(0/1) -> M_(1/0) ; M_(1/0) -> M_(1/1)\n",
    "#  Create lists containing the values of [z_1,y_1,z_2,y_2]\n",
    "facet_copy = np.copy(facet)\n",
    "mea_var = [[1,1,0,0],[0,0,0,1],[0,1,1,0],[1,0,1,1]]\n",
    "for r in range(len(mea_var)):\n",
    "    z_1,y_1,z_2,y_2 = mea_var[r][0],mea_var[r][1],mea_var[r][2],mea_var[r][3]\n",
    "    for p in range(prep):\n",
    "        facet_copy[:,p+1+prep*mea*z_2+prep*y_2] = facet[:,p+1+prep*mea*z_1+prep*y_1]\n",
    "facet_copy = rearranging_facet(facet_copy)\n",
    "equiv_facets_4 = []\n",
    "for i in range (len(facet)):\n",
    "    for j in range (len(facet_copy)):\n",
    "        comparison = facet[i] == facet_copy[j]\n",
    "        if (j != i):\n",
    "            if comparison.all() == True:\n",
    "                #print (facet[i],i,j)\n",
    "                equiv_facets_4.append([i,j])\n",
    "print(equiv_facets_4)        "
   ]
  },
  {
   "cell_type": "code",
   "execution_count": 20,
   "metadata": {},
   "outputs": [
    {
     "name": "stdout",
     "output_type": "stream",
     "text": [
      "[[0, 3, 5, 6], [7, 8, 9, 11, 13, 16, 24, 30], [32, 1, 2, 4, 10, 12, 14, 29], [35, 38, 41, 15, 18, 20, 22, 31], [33, 34, 36, 37, 39, 40, 42, 43, 17, 19, 21, 23, 25, 26, 27, 28]]\n"
     ]
    }
   ],
   "source": [
    "equiv_facets = np.vstack((equiv_facets_1, equiv_facets_2, equiv_facets_3, equiv_facets_4))\n",
    "import itertools\n",
    "equiv_facets = equiv_facets.tolist()\n",
    "facets_set = set(itertools.chain.from_iterable(equiv_facets)) \n",
    "\n",
    "for each in facets_set:\n",
    "  components = [x for x in equiv_facets if each in x]\n",
    "  for i in components:\n",
    "    equiv_facets.remove(i)\n",
    "  equiv_facets += [list(set(itertools.chain.from_iterable(components)))]\n",
    "print(equiv_facets)"
   ]
  },
  {
   "cell_type": "code",
   "execution_count": 21,
   "metadata": {},
   "outputs": [
    {
     "name": "stdout",
     "output_type": "stream",
     "text": [
      "Total number of equivalent class of facets :  5\n"
     ]
    }
   ],
   "source": [
    "print(\"Total number of equivalent class of facets : \",len(equiv_facets))"
   ]
  },
  {
   "cell_type": "code",
   "execution_count": 22,
   "metadata": {},
   "outputs": [
    {
     "name": "stdout",
     "output_type": "stream",
     "text": [
      "Representing Facet inequality :  [ 1.    0.    0.    0.    0.    0.    0.25  0.25 -0.75 -0.75  0.    0.\n",
      "  0.    0.    0.    0.    0.    0.    0.    0.    0.  ] Facet no.  0\n",
      "Orbit size =  4\n",
      "Representing Facet inequality :  [ 1.  0. -1.  0.  0.  0.  0.  0.  0.  0.  0.  0.  0.  0.  0.  0.  0.  0.\n",
      "  0.  0.  0.] Facet no.  7\n",
      "Orbit size =  8\n",
      "Representing Facet inequality :  [0. 0. 0. 0. 0. 0. 0. 0. 1. 0. 0. 0. 0. 0. 0. 0. 0. 0. 0. 0. 0.] Facet no.  32\n",
      "Orbit size =  8\n",
      "Representing Facet inequality :  [ 3. -1. -1.  3.  0.  0.  1.  1.  0. -3.  0.  0.  0.  0.  0.  0.  0.  0.\n",
      "  0.  0.  0.] Facet no.  35\n",
      "Orbit size =  8\n",
      "Representing Facet inequality :  [ 3.  0.  1.  0. -3.  0.  0. -1.  3.  0.  0.  0.  0.  0.  0.  0.  0.  0.\n",
      "  0.  0.  0.] Facet no.  33\n",
      "Orbit size =  16\n"
     ]
    }
   ],
   "source": [
    "# Choose one facet from each equivalent class to represent\n",
    "for i in equiv_facets:            \n",
    "    j = i[0]\n",
    "    print(\"Representing Facet inequality : \",facet[j],\"Facet no. \",j)\n",
    "    print('Orbit size = ',len(i))"
   ]
  },
  {
   "cell_type": "markdown",
   "metadata": {},
   "source": [
    "## Inequalities included in article  "
   ]
  },
  {
   "cell_type": "code",
   "execution_count": 24,
   "metadata": {},
   "outputs": [
    {
     "name": "stdout",
     "output_type": "stream",
     "text": [
      "[ 0.   -0.25 -0.25  0.75  0.75  0.    0.    0.    0.    0.    0.    0.\n",
      "  0.    0.    0.    0.    0.    0.    0.    0.    0.  ]\n",
      "[ 2. -1. -1.  3.  0.  0. -1. -1.  0.  3.  0.  0.  0.  0.  0.  0.  0.  0.\n",
      "  0.  0.  0.]\n",
      "[ 1.  0. -1.  3.  0.  0.  0. -1.  0.  3.  0.  0.  0.  0.  0.  0.  0.  0.\n",
      "  0.  0.  0.]\n"
     ]
    }
   ],
   "source": [
    "print(facet[6])  # choosen from class 1          ### The choice is arbitrary\n",
    "print(facet[15])  # choosen from class 4\n",
    "print(facet[23])  # choosen from class 5  "
   ]
  }
 ],
 "metadata": {
  "kernelspec": {
   "display_name": "Python 3 (ipykernel)",
   "language": "python",
   "name": "python3"
  },
  "language_info": {
   "codemirror_mode": {
    "name": "ipython",
    "version": 3
   },
   "file_extension": ".py",
   "mimetype": "text/x-python",
   "name": "python",
   "nbconvert_exporter": "python",
   "pygments_lexer": "ipython3",
   "version": "3.10.8"
  }
 },
 "nbformat": 4,
 "nbformat_minor": 4
}
